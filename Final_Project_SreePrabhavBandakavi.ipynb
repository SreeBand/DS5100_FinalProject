{
 "cells": [
  {
   "cell_type": "markdown",
   "id": "45762487-d33f-486d-8e38-2cdea04e3528",
   "metadata": {},
   "source": [
    "# Final Project Report\n",
    "\n",
    "* Class: DS 5100\n",
    "* Student Name: Sree Prabhav Bandakavi\n",
    "* Student Net ID: kqy9hc\n",
    "* This URL: https://github.com/SreeBand/DS5100_FinalProject/blob/main/Final_Project_SreePrabhavBandakavi.ipynb"
   ]
  },
  {
   "cell_type": "markdown",
   "id": "acf756c1-ecaa-41dc-b6ca-d566eb94560b",
   "metadata": {},
   "source": [
    "# Instructions\n",
    "\n",
    "Follow the instructions in the Final Project isntructions notebook and put evidence of your work in this notebook.\n",
    "\n",
    "Total points for each subsection under **Deliverables** and **Scenarios** are given in parentheses.\n",
    "\n",
    "Breakdowns of points within subsections are specified within subsection instructions as bulleted lists.\n",
    "\n",
    "This project is worth **50 points**."
   ]
  },
  {
   "cell_type": "markdown",
   "id": "89dc7a32-f682-4402-8c1e-b6ccdb3e0e39",
   "metadata": {
    "tags": []
   },
   "source": [
    "# Deliverables"
   ]
  },
  {
   "cell_type": "markdown",
   "id": "d32cb273-9a40-4909-a7ce-51f6e4958d3c",
   "metadata": {},
   "source": [
    "## The Monte Carlo Module (10)\n",
    "\n",
    "- URL included, appropriately named (1).\n",
    "- Includes all three specified classes (3).\n",
    "- Includes at least all 12 specified methods (6; .5 each)."
   ]
  },
  {
   "cell_type": "markdown",
   "id": "f5f3b070-de9e-4de9-bfae-8974d184aa28",
   "metadata": {},
   "source": [
    "Put the URL to your GitHub repo here.\n",
    "\n",
    "Repo URL: https://github.com/SreeBand/DS5100_FinalProject"
   ]
  },
  {
   "cell_type": "markdown",
   "id": "162370fb-3729-4c85-b040-8c25b2c966d2",
   "metadata": {},
   "source": [
    "Paste a copy of your module here.\n",
    "\n",
    "NOTE: Paste as text, not as code. Use triple backticks to wrap your code blocks."
   ]
  },
  {
   "cell_type": "markdown",
   "id": "372f9638-6b3d-4106-914e-2071a6290096",
   "metadata": {},
   "source": [
    "```python\n",
    "import numpy as np\n",
    "import pandas as pd\n",
    "\n",
    "class Die:\n",
    "    \"\"\"\n",
    "    A Die has N sides, each with a unique symbol (numeric or string), and associated weights.\n",
    "    The die can be rolled to randomly select a face based on these weights.\n",
    "\n",
    "    By default, all weights are 1.0, representing a fair die.\n",
    "    Weights can be modified after initialization.\n",
    "\n",
    "    Attributes:\n",
    "        __df (pd.DataFrame): Private dataframe storing faces and their weights.\n",
    "    \"\"\"\n",
    "\n",
    "    def __init__(self, faces: np.ndarray):\n",
    "        \"\"\"\n",
    "        Initializes a Die object with unique faces.\n",
    "\n",
    "        Parameters:\n",
    "            faces (np.ndarray): A NumPy array of unique face symbols (numeric or strings).\n",
    "\n",
    "        Raises:\n",
    "            TypeError: If faces is not a NumPy array.\n",
    "            ValueError: If faces are not unique.\n",
    "        \"\"\"\n",
    "        if not isinstance(faces, np.ndarray):\n",
    "            raise TypeError(\"Faces must be provided as a NumPy array.\")\n",
    "        if len(faces) != len(set(faces)):\n",
    "            raise ValueError(\"Faces must contain unique values.\")\n",
    "        \n",
    "        self.__df = pd.DataFrame({\n",
    "            'face': faces,\n",
    "            'weight': np.ones(len(faces))\n",
    "        }).set_index('face')\n",
    "\n",
    "    def change_weight(self, face, new_weight):\n",
    "        \"\"\"\n",
    "        Changes the weight of a specific face.\n",
    "\n",
    "        Parameters:\n",
    "            face: The face value whose weight is to be changed.\n",
    "            new_weight: The new weight (float or int, must be non-negative).\n",
    "\n",
    "        Raises:\n",
    "            IndexError: If the face is not found.\n",
    "            TypeError: If new_weight is not numeric or castable to float.\n",
    "            ValueError: If new_weight is negative.\n",
    "\n",
    "        State Changes:\n",
    "            Updates the weight for the specified face.\n",
    "        \"\"\"\n",
    "        if face not in self.__df.index:\n",
    "            raise IndexError(f\"Face '{face}' not found in die faces.\")\n",
    "        try:\n",
    "            new_weight = float(new_weight)\n",
    "        except ValueError:\n",
    "            raise TypeError(\"New weight must be numeric or castable to float.\")\n",
    "        if new_weight < 0:\n",
    "            raise ValueError(\"Weight must be non-negative.\")\n",
    "        \n",
    "        self.__df.at[face, 'weight'] = new_weight\n",
    "\n",
    "    def roll(self, num_rolls=1):\n",
    "        \"\"\"\n",
    "        Rolls the die a specified number of times.\n",
    "\n",
    "        Parameters:\n",
    "            num_rolls (int): Number of times to roll the die (default is 1).\n",
    "\n",
    "        Returns:\n",
    "            list: A list of outcomes from the rolls.\n",
    "\n",
    "        Raises:\n",
    "            ValueError: If num_rolls is not a positive integer.\n",
    "\n",
    "        Does not store results internally.\n",
    "        \"\"\"\n",
    "        if not isinstance(num_rolls, int) or num_rolls <= 0:\n",
    "            raise ValueError(\"Number of rolls must be a positive integer.\")\n",
    "        faces = self.__df.index.to_list()\n",
    "        weights = self.__df['weight'].to_list()\n",
    "        result = list(np.random.choice(faces, size=num_rolls, p=np.array(weights) / sum(weights)))\n",
    "        return result\n",
    "\n",
    "    def show(self):\n",
    "        \"\"\"\n",
    "        Displays the current state of the die.\n",
    "\n",
    "        Returns:\n",
    "            pd.DataFrame: A copy of the dataframe showing faces and their weights.\n",
    "        \"\"\"\n",
    "        return self.__df.copy()\n",
    "\n",
    "class Game:\n",
    "    \"\"\"\n",
    "    A Game consists of rolling one or more similar Die objects multiple times.\n",
    "    It records the outcomes of the most recent play.\n",
    "\n",
    "    Attributes:\n",
    "        __dice (list): List of Die objects.\n",
    "        __results (pd.DataFrame): Private dataframe storing latest play results.\n",
    "    \"\"\"\n",
    "\n",
    "    def __init__(self, dice_list):\n",
    "        \"\"\"\n",
    "        Initializes a Game with a list of Die objects.\n",
    "\n",
    "        Parameters:\n",
    "            dice_list (list): A list containing one or more Die objects.\n",
    "\n",
    "        Raises:\n",
    "            ValueError: If dice_list is empty or not a list.\n",
    "        \"\"\"\n",
    "        if not isinstance(dice_list, list) or len(dice_list) == 0:\n",
    "            raise ValueError(\"Must provide a non-empty list of dice.\")\n",
    "        self.__dice = dice_list\n",
    "        self.__results = None\n",
    "\n",
    "    def play(self, num_rolls):\n",
    "        \"\"\"\n",
    "        Rolls all dice a specified number of times.\n",
    "\n",
    "        Parameters:\n",
    "            num_rolls (int): Number of times to roll the dice.\n",
    "\n",
    "        Raises:\n",
    "            ValueError: If num_rolls is not a positive integer.\n",
    "\n",
    "        State Changes:\n",
    "            Stores the results of the play in a private dataframe.\n",
    "        \"\"\"\n",
    "        if not isinstance(num_rolls, int) or num_rolls <= 0:\n",
    "            raise ValueError(\"Number of rolls must be a positive integer.\")\n",
    "        \n",
    "        rolls = {}\n",
    "        for i, die in enumerate(self.__dice):\n",
    "            rolls[i] = die.roll(num_rolls)\n",
    "        \n",
    "        self.__results = pd.DataFrame(rolls)\n",
    "        self.__results.index.name = \"Roll Number\"\n",
    "\n",
    "    def show(self, form='wide'):\n",
    "        \"\"\"\n",
    "        Displays the results of the most recent play.\n",
    "\n",
    "        Parameters:\n",
    "            form (str): 'wide' (default) or 'narrow' format.\n",
    "\n",
    "        Returns:\n",
    "            pd.DataFrame: Copy of the play results dataframe.\n",
    "\n",
    "        Raises:\n",
    "            ValueError: If no game has been played or invalid format is passed.\n",
    "        \"\"\"\n",
    "        if self.__results is None:\n",
    "            raise ValueError(\"No game has been played yet.\")\n",
    "        \n",
    "        if form == 'wide':\n",
    "            return self.__results.copy()\n",
    "        elif form == 'narrow':\n",
    "            narrow_df = self.__results.stack()\n",
    "            narrow_df.index.set_names(['Roll Number', 'Die Number'], inplace=True)\n",
    "            return narrow_df.to_frame('Outcome')\n",
    "        else:\n",
    "            raise ValueError(\"Invalid form. Use 'wide' or 'narrow'.\")\n",
    "\n",
    "class Analyzer:\n",
    "    \"\"\"\n",
    "    Analyzer computes descriptive statistics from a single Game's results.\n",
    "\n",
    "    Provides methods to compute jackpots, face counts, combinations, and permutations.\n",
    "    \"\"\"\n",
    "\n",
    "    def __init__(self, game):\n",
    "        \"\"\"\n",
    "        Initializes the Analyzer with a Game object.\n",
    "\n",
    "        Parameters:\n",
    "            game (Game): A Game object containing play results.\n",
    "\n",
    "        Raises:\n",
    "            ValueError: If input is not a Game object.\n",
    "        \"\"\"\n",
    "        if not isinstance(game, Game):\n",
    "            raise ValueError(\"Input must be a Game object.\")\n",
    "        self.game = game\n",
    "        self.results = game.show('wide')\n",
    "\n",
    "    def jackpot(self):\n",
    "        \"\"\"\n",
    "        Computes the number of jackpots (all dice showing the same face in a roll).\n",
    "\n",
    "        Returns:\n",
    "            int: Number of jackpots found.\n",
    "        \"\"\"\n",
    "        jackpots = self.results.apply(lambda row: len(set(row)) == 1, axis=1)\n",
    "        return int(jackpots.sum())\n",
    "\n",
    "    def face_counts_per_roll(self):\n",
    "        \"\"\"\n",
    "        Counts occurrences of each face per roll.\n",
    "\n",
    "        Returns:\n",
    "            pd.DataFrame: DataFrame with roll numbers as index, face values as columns, and counts in cells.\n",
    "        \"\"\"\n",
    "        counts_list = []\n",
    "        unique_faces = pd.unique(self.results.values.ravel())\n",
    "        for _, row in self.results.iterrows():\n",
    "            counts = pd.Series(row).value_counts()\n",
    "            counts = counts.reindex(unique_faces, fill_value=0)\n",
    "            counts_list.append(counts)\n",
    "        face_counts_df = pd.DataFrame(counts_list)\n",
    "        face_counts_df.index = self.results.index\n",
    "        face_counts_df.index.name = 'Roll Number'\n",
    "        return face_counts_df\n",
    "\n",
    "    def combo_count(self):\n",
    "        \"\"\"\n",
    "        Computes distinct combinations (order-independent) of faces rolled and their counts.\n",
    "\n",
    "        Returns:\n",
    "            pd.DataFrame: DataFrame with MultiIndex of combinations and a count column.\n",
    "        \"\"\"\n",
    "        combos = self.results.apply(lambda row: tuple(sorted(row)), axis=1)\n",
    "        combo_counts = combos.value_counts().to_frame('Count')\n",
    "        combo_counts.index.name = 'Combination'\n",
    "        return combo_counts\n",
    "\n",
    "    def permutation_count(self):\n",
    "        \"\"\"\n",
    "        Computes distinct permutations (order-dependent) of faces rolled and their counts.\n",
    "\n",
    "        Returns:\n",
    "            pd.DataFrame: DataFrame with MultiIndex of permutations and a count column.\n",
    "        \"\"\"\n",
    "        perms = self.results.apply(lambda row: tuple(row), axis=1)\n",
    "        perm_counts = perms.value_counts().to_frame('Count')\n",
    "        perm_counts.index.name = 'Permutation'\n",
    "        return perm_counts\n",
    "```"
   ]
  },
  {
   "cell_type": "markdown",
   "id": "6377727a-8f0a-491e-9f1c-d9dc225edd35",
   "metadata": {},
   "source": [
    "## Unitest Module (2)\n",
    "\n",
    "Paste a copy of your test module below.\n",
    "\n",
    "NOTE: Paste as text, not as code. Use triple backticks to wrap your code blocks.\n",
    "\n",
    "- All methods have at least one test method (1).\n",
    "- Each method employs one of Unittest's Assert methods (1)."
   ]
  },
  {
   "cell_type": "markdown",
   "id": "6b8fce9f-2afc-4a85-a6f3-83cb2d41a07f",
   "metadata": {},
   "source": [
    "```python\n",
    "import unittest\n",
    "import numpy as np\n",
    "import pandas as pd\n",
    "from die_game_analyzer import Die, Game, Analyzer\n",
    "\n",
    "class TestDieGameAnalyzer(unittest.TestCase):\n",
    "\n",
    "    def setUp(self):\n",
    "        \"\"\"Set up common test objects for Die, Game, and Analyzer.\"\"\"\n",
    "        self.faces = np.array([1, 2, 3, 4, 5, 6])\n",
    "        self.die = Die(self.faces)\n",
    "        self.dice_list = [self.die, Die(self.faces)]\n",
    "        self.game = Game(self.dice_list)\n",
    "        self.game.play(5)\n",
    "        self.analyzer = Analyzer(self.game)\n",
    "\n",
    "    # --- Tests for Die Class (4 methods) ---\n",
    "\n",
    "    def test_die_init_creates_dataframe(self):\n",
    "        \"\"\"Test Die initialization creates correct DataFrame structure.\"\"\"\n",
    "        df = self.die.show()\n",
    "        self.assertIsInstance(df, pd.DataFrame)\n",
    "        self.assertTrue((df['weight'] == 1.0).all())\n",
    "\n",
    "    def test_die_change_weight_updates_weight(self):\n",
    "        \"\"\"Test that changing a weight updates the DataFrame correctly.\"\"\"\n",
    "        self.die.change_weight(6, 3.5)\n",
    "        df = self.die.show()\n",
    "        self.assertEqual(df.loc[6, 'weight'], 3.5)\n",
    "\n",
    "    def test_die_roll_returns_correct_length_list(self):\n",
    "        \"\"\"Test that Die.roll() returns a list of correct length.\"\"\"\n",
    "        outcomes = self.die.roll(4)\n",
    "        self.assertIsInstance(outcomes, list)\n",
    "        self.assertEqual(len(outcomes), 4)\n",
    "\n",
    "    def test_die_show_returns_dataframe(self):\n",
    "        \"\"\"Test that Die.show() returns a DataFrame.\"\"\"\n",
    "        result = self.die.show()\n",
    "        self.assertIsInstance(result, pd.DataFrame)\n",
    "\n",
    "    # --- Tests for Game Class (3 methods) ---\n",
    "\n",
    "    def test_game_init_accepts_dice_list(self):\n",
    "        \"\"\"Test Game initialization with dice list.\"\"\"\n",
    "        game = Game(self.dice_list)\n",
    "        self.assertIsInstance(game, Game)\n",
    "\n",
    "    def test_game_play_creates_results_dataframe(self):\n",
    "        \"\"\"Test Game.play() stores a DataFrame of correct shape.\"\"\"\n",
    "        df = self.game.show('wide')\n",
    "        self.assertIsInstance(df, pd.DataFrame)\n",
    "        self.assertEqual(df.shape, (5, len(self.dice_list)))\n",
    "\n",
    "    def test_game_show_formats(self):\n",
    "        \"\"\"Test Game.show() returns correct formats.\"\"\"\n",
    "        wide_df = self.game.show('wide')\n",
    "        narrow_df = self.game.show('narrow')\n",
    "        self.assertIsInstance(wide_df, pd.DataFrame)\n",
    "        self.assertIsInstance(narrow_df, pd.DataFrame)\n",
    "        self.assertIsInstance(narrow_df.index, pd.MultiIndex)\n",
    "\n",
    "    # --- Tests for Analyzer Class (5 methods) ---\n",
    "\n",
    "    def test_analyzer_init_stores_results(self):\n",
    "        \"\"\"Test Analyzer initialization stores game results.\"\"\"\n",
    "        self.assertIsInstance(self.analyzer.results, pd.DataFrame)\n",
    "\n",
    "    def test_analyzer_jackpot_returns_integer(self):\n",
    "        \"\"\"Test that Analyzer.jackpot() returns an integer.\"\"\"\n",
    "        jackpots = self.analyzer.jackpot()\n",
    "        self.assertIsInstance(jackpots, int)\n",
    "\n",
    "    def test_analyzer_face_counts_per_roll_structure(self):\n",
    "        \"\"\"Test that face_counts_per_roll returns a DataFrame.\"\"\"\n",
    "        counts_df = self.analyzer.face_counts_per_roll()\n",
    "        self.assertIsInstance(counts_df, pd.DataFrame)\n",
    "        self.assertEqual(counts_df.shape[0], self.game.show().shape[0])\n",
    "\n",
    "    def test_analyzer_combo_count_returns_dataframe(self):\n",
    "        \"\"\"Test combo_count returns a DataFrame with MultiIndex.\"\"\"\n",
    "        combo_df = self.analyzer.combo_count()\n",
    "        self.assertIsInstance(combo_df, pd.DataFrame)\n",
    "        self.assertTrue(isinstance(combo_df.index, pd.Index) or isinstance(combo_df.index, pd.MultiIndex))\n",
    "\n",
    "    def test_analyzer_permutation_count_returns_dataframe(self):\n",
    "        \"\"\"Test permutation_count returns a DataFrame with MultiIndex.\"\"\"\n",
    "        perm_df = self.analyzer.permutation_count()\n",
    "        self.assertIsInstance(perm_df, pd.DataFrame)\n",
    "        self.assertTrue(isinstance(perm_df.index, pd.Index) or isinstance(perm_df.index, pd.MultiIndex))\n",
    "\n",
    "\n",
    "if __name__ == '__main__':\n",
    "    unittest.main()\n",
    "```"
   ]
  },
  {
   "cell_type": "markdown",
   "id": "3e058d03-29bc-408f-b36d-0605b4f4b8c0",
   "metadata": {
    "tags": []
   },
   "source": [
    "## Unittest Results (3)\n",
    "\n",
    "Put a copy of the results of running your tests from the command line here.\n",
    "\n",
    "Again, paste as text using triple backticks.\n",
    "\n",
    "- All 12 specified methods return OK (3; .25 each)."
   ]
  },
  {
   "cell_type": "raw",
   "id": "27f41508-8fd3-45f6-83e6-939beff4ea7b",
   "metadata": {
    "tags": []
   },
   "source": [
    "bash-4.4$python test_die_game_analyzer.py\n",
    "............\n",
    "----------------------------------------------------------------------\n",
    "Ran 12 tests in 0.020s\n",
    "\n",
    "OK"
   ]
  },
  {
   "cell_type": "markdown",
   "id": "d9ffe8c5-eb2f-4ad1-af76-a46550e4c7ac",
   "metadata": {},
   "source": [
    "## Import (1)\n",
    "\n",
    "Import your module here. This import should refer to the code in your package directory.\n",
    "\n",
    "- Module successuflly imported (1)."
   ]
  },
  {
   "cell_type": "code",
   "execution_count": 5,
   "id": "a05dffb3-e6d6-4f78-9df4-5abd0cf74ca9",
   "metadata": {
    "tags": []
   },
   "outputs": [],
   "source": [
    "from monte_carlo_simulator.die_game_analyzer import Die, Game, Analyzer"
   ]
  },
  {
   "cell_type": "markdown",
   "id": "f30c4842-65b1-4556-98b6-3fe1a07e1371",
   "metadata": {},
   "source": [
    "## Help Docs (4)\n",
    "\n",
    "Show your docstring documentation by applying `help()` to your imported module.\n",
    "\n",
    "- All methods have a docstring (3; .25 each).\n",
    "- All classes have a docstring (1; .33 each)."
   ]
  },
  {
   "cell_type": "code",
   "execution_count": 9,
   "id": "bf4fbf1f-9885-471c-a0a6-e9ca90e160de",
   "metadata": {
    "tags": []
   },
   "outputs": [
    {
     "name": "stdout",
     "output_type": "stream",
     "text": [
      "Help on module monte_carlo_simulator.die_game_analyzer in monte_carlo_simulator:\n",
      "\n",
      "NAME\n",
      "    monte_carlo_simulator.die_game_analyzer\n",
      "\n",
      "CLASSES\n",
      "    builtins.object\n",
      "        Analyzer\n",
      "        Die\n",
      "        Game\n",
      "    \n",
      "    class Analyzer(builtins.object)\n",
      "     |  Analyzer(game)\n",
      "     |  \n",
      "     |  Analyzer computes descriptive statistics from a single Game's results.\n",
      "     |  \n",
      "     |  Provides methods to compute jackpots, face counts, combinations, and permutations.\n",
      "     |  \n",
      "     |  Methods defined here:\n",
      "     |  \n",
      "     |  __init__(self, game)\n",
      "     |      Initializes the Analyzer with a Game object.\n",
      "     |      \n",
      "     |      Parameters:\n",
      "     |          game (Game): A Game object containing play results.\n",
      "     |      \n",
      "     |      Raises:\n",
      "     |          ValueError: If input is not a Game object.\n",
      "     |  \n",
      "     |  combo_count(self)\n",
      "     |      Computes distinct combinations (order-independent) of faces rolled and their counts.\n",
      "     |      \n",
      "     |      Returns:\n",
      "     |          pd.DataFrame: DataFrame with MultiIndex of combinations and a count column.\n",
      "     |  \n",
      "     |  face_counts_per_roll(self)\n",
      "     |      Counts occurrences of each face per roll.\n",
      "     |      \n",
      "     |      Returns:\n",
      "     |          pd.DataFrame: DataFrame with roll numbers as index, face values as columns, and counts in cells.\n",
      "     |  \n",
      "     |  jackpot(self)\n",
      "     |      Computes the number of jackpots (all dice showing the same face in a roll).\n",
      "     |      \n",
      "     |      Returns:\n",
      "     |          int: Number of jackpots found.\n",
      "     |  \n",
      "     |  permutation_count(self)\n",
      "     |      Computes distinct permutations (order-dependent) of faces rolled and their counts.\n",
      "     |      \n",
      "     |      Returns:\n",
      "     |          pd.DataFrame: DataFrame with MultiIndex of permutations and a count column.\n",
      "     |  \n",
      "     |  ----------------------------------------------------------------------\n",
      "     |  Data descriptors defined here:\n",
      "     |  \n",
      "     |  __dict__\n",
      "     |      dictionary for instance variables (if defined)\n",
      "     |  \n",
      "     |  __weakref__\n",
      "     |      list of weak references to the object (if defined)\n",
      "    \n",
      "    class Die(builtins.object)\n",
      "     |  Die(faces: numpy.ndarray)\n",
      "     |  \n",
      "     |  A Die has N sides, each with a unique symbol (numeric or string), and associated weights.\n",
      "     |  The die can be rolled to randomly select a face based on these weights.\n",
      "     |  \n",
      "     |  By default, all weights are 1.0, representing a fair die.\n",
      "     |  Weights can be modified after initialization.\n",
      "     |  \n",
      "     |  Attributes:\n",
      "     |      __df (pd.DataFrame): Private dataframe storing faces and their weights.\n",
      "     |  \n",
      "     |  Methods defined here:\n",
      "     |  \n",
      "     |  __init__(self, faces: numpy.ndarray)\n",
      "     |      Initializes a Die object with unique faces.\n",
      "     |      \n",
      "     |      Parameters:\n",
      "     |          faces (np.ndarray): A NumPy array of unique face symbols (numeric or strings).\n",
      "     |      \n",
      "     |      Raises:\n",
      "     |          TypeError: If faces is not a NumPy array.\n",
      "     |          ValueError: If faces are not unique.\n",
      "     |  \n",
      "     |  change_weight(self, face, new_weight)\n",
      "     |      Changes the weight of a specific face.\n",
      "     |      \n",
      "     |      Parameters:\n",
      "     |          face: The face value whose weight is to be changed.\n",
      "     |          new_weight: The new weight (float or int, must be non-negative).\n",
      "     |      \n",
      "     |      Raises:\n",
      "     |          IndexError: If the face is not found.\n",
      "     |          TypeError: If new_weight is not numeric or castable to float.\n",
      "     |          ValueError: If new_weight is negative.\n",
      "     |      \n",
      "     |      State Changes:\n",
      "     |          Updates the weight for the specified face.\n",
      "     |  \n",
      "     |  roll(self, num_rolls=1)\n",
      "     |      Rolls the die a specified number of times.\n",
      "     |      \n",
      "     |      Parameters:\n",
      "     |          num_rolls (int): Number of times to roll the die (default is 1).\n",
      "     |      \n",
      "     |      Returns:\n",
      "     |          list: A list of outcomes from the rolls.\n",
      "     |      \n",
      "     |      Raises:\n",
      "     |          ValueError: If num_rolls is not a positive integer.\n",
      "     |      \n",
      "     |      Does not store results internally.\n",
      "     |  \n",
      "     |  show(self)\n",
      "     |      Displays the current state of the die.\n",
      "     |      \n",
      "     |      Returns:\n",
      "     |          pd.DataFrame: A copy of the dataframe showing faces and their weights.\n",
      "     |  \n",
      "     |  ----------------------------------------------------------------------\n",
      "     |  Data descriptors defined here:\n",
      "     |  \n",
      "     |  __dict__\n",
      "     |      dictionary for instance variables (if defined)\n",
      "     |  \n",
      "     |  __weakref__\n",
      "     |      list of weak references to the object (if defined)\n",
      "    \n",
      "    class Game(builtins.object)\n",
      "     |  Game(dice_list)\n",
      "     |  \n",
      "     |  A Game consists of rolling one or more similar Die objects multiple times.\n",
      "     |  It records the outcomes of the most recent play.\n",
      "     |  \n",
      "     |  Attributes:\n",
      "     |      __dice (list): List of Die objects.\n",
      "     |      __results (pd.DataFrame): Private dataframe storing latest play results.\n",
      "     |  \n",
      "     |  Methods defined here:\n",
      "     |  \n",
      "     |  __init__(self, dice_list)\n",
      "     |      Initializes a Game with a list of Die objects.\n",
      "     |      \n",
      "     |      Parameters:\n",
      "     |          dice_list (list): A list containing one or more Die objects.\n",
      "     |      \n",
      "     |      Raises:\n",
      "     |          ValueError: If dice_list is empty or not a list.\n",
      "     |  \n",
      "     |  play(self, num_rolls)\n",
      "     |      Rolls all dice a specified number of times.\n",
      "     |      \n",
      "     |      Parameters:\n",
      "     |          num_rolls (int): Number of times to roll the dice.\n",
      "     |      \n",
      "     |      Raises:\n",
      "     |          ValueError: If num_rolls is not a positive integer.\n",
      "     |      \n",
      "     |      State Changes:\n",
      "     |          Stores the results of the play in a private dataframe.\n",
      "     |  \n",
      "     |  show(self, form='wide')\n",
      "     |      Displays the results of the most recent play.\n",
      "     |      \n",
      "     |      Parameters:\n",
      "     |          form (str): 'wide' (default) or 'narrow' format.\n",
      "     |      \n",
      "     |      Returns:\n",
      "     |          pd.DataFrame: Copy of the play results dataframe.\n",
      "     |      \n",
      "     |      Raises:\n",
      "     |          ValueError: If no game has been played or invalid format is passed.\n",
      "     |  \n",
      "     |  ----------------------------------------------------------------------\n",
      "     |  Data descriptors defined here:\n",
      "     |  \n",
      "     |  __dict__\n",
      "     |      dictionary for instance variables (if defined)\n",
      "     |  \n",
      "     |  __weakref__\n",
      "     |      list of weak references to the object (if defined)\n",
      "\n",
      "FILE\n",
      "    /sfs/gpfs/tardis/home/kqy9hc/Final Project/monte_carlo_simulator/die_game_analyzer.py\n",
      "\n",
      "\n"
     ]
    }
   ],
   "source": [
    "import monte_carlo_simulator.die_game_analyzer\n",
    "help(monte_carlo_simulator.die_game_analyzer)"
   ]
  },
  {
   "cell_type": "markdown",
   "id": "a9defa84-b395-4966-bd1c-5c6c2bb7ed68",
   "metadata": {},
   "source": [
    "## `README.md` File (3)\n",
    "\n",
    "Provide link to the README.md file of your project's repo.\n",
    "\n",
    "- Metadata section or info present (1).\n",
    "- Synopsis section showing how each class is called (1). (All must be included.)\n",
    "- API section listing all classes and methods (1). (All must be included.)"
   ]
  },
  {
   "cell_type": "markdown",
   "id": "ee090b33-d593-48a0-bf35-e739cea0942c",
   "metadata": {},
   "source": [
    "URL: https://github.com/SreeBand/DS5100_FinalProject/blob/main/README.md"
   ]
  },
  {
   "cell_type": "markdown",
   "id": "108604c8-8827-42ef-ab59-6b25428fc0ca",
   "metadata": {},
   "source": [
    "## Successful installation (2)\n",
    "\n",
    "Put a screenshot or paste a copy of a terminal session where you successfully install your module with pip.\n",
    "\n",
    "If pasting text, use a preformatted text block to show the results.\n",
    "\n",
    "- Installed with `pip` (1).\n",
    "- Successfully installed message appears (1)."
   ]
  },
  {
   "cell_type": "raw",
   "id": "1278db6a-aa53-4e5c-a749-93a87ab239e0",
   "metadata": {},
   "source": [
    "bash-4.4$pip install -e .\n",
    "Defaulting to user installation because normal site-packages is not writeable\n",
    "Obtaining file:///sfs/gpfs/tardis/home/kqy9hc/Final%20Project/monte_carlo_simulator\n",
    "  Preparing metadata (setup.py) ... done\n",
    "Requirement already satisfied: numpy in /sfs/applications/202412_build/software/standard/core/miniforge/24.3.0-py3.11/lib/python3.11/site-packages (from monte_carlo_simulator==1.0.0) (1.24.3)\n",
    "Requirement already satisfied: pandas in /sfs/applications/202412_build/software/standard/core/miniforge/24.3.0-py3.11/lib/python3.11/site-packages (from monte_carlo_simulator==1.0.0) (1.5.3)\n",
    "Requirement already satisfied: python-dateutil>=2.8.1 in /sfs/applications/202412_build/software/standard/core/miniforge/24.3.0-py3.11/lib/python3.11/site-packages (from pandas->monte_carlo_simulator==1.0.0) (2.9.0)\n",
    "Requirement already satisfied: pytz>=2020.1 in /sfs/applications/202412_build/software/standard/core/miniforge/24.3.0-py3.11/lib/python3.11/site-packages (from pandas->monte_carlo_simulator==1.0.0) (2024.1)\n",
    "Requirement already satisfied: six>=1.5 in /sfs/applications/202412_build/software/standard/core/miniforge/24.3.0-py3.11/lib/python3.11/site-packages (from python-dateutil>=2.8.1->pandas->monte_carlo_simulator==1.0.0) (1.16.0)\n",
    "Installing collected packages: monte_carlo_simulator\n",
    "  Running setup.py develop for monte_carlo_simulator\n",
    "Successfully installed monte_carlo_simulator-1.0.0"
   ]
  },
  {
   "cell_type": "markdown",
   "id": "7c44695d-d1b3-4edf-9f94-e64d7446f199",
   "metadata": {},
   "source": [
    "# Scenarios\n",
    "\n",
    "Use code blocks to perform the tasks for each scenario.\n",
    "\n",
    "Be sure the outputs are visible before submitting."
   ]
  },
  {
   "cell_type": "markdown",
   "id": "e2479eae-6fc9-44cd-b8d7-9b22cb501f2a",
   "metadata": {
    "tags": []
   },
   "source": [
    "## Scenario 1: A 2-headed Coin (9)\n",
    "\n",
    "Task 1. Create a fair coin (with faces $H$ and $T$) and one unfair coin in which one of the faces has a weight of $5$ and the others $1$.\n",
    "\n",
    "- Fair coin created (1).\n",
    "- Unfair coin created with weight as specified (1)."
   ]
  },
  {
   "cell_type": "code",
   "execution_count": 54,
   "id": "55ce498e-c75f-4425-9e3e-b635bd6cd9e1",
   "metadata": {
    "tags": []
   },
   "outputs": [
    {
     "name": "stdout",
     "output_type": "stream",
     "text": [
      "Fair Coin State:\n",
      "      weight\n",
      "face        \n",
      "H        1.0\n",
      "T        1.0\n",
      "\n",
      "Unfair Coin State:\n",
      "      weight\n",
      "face        \n",
      "H        5.0\n",
      "T        1.0\n"
     ]
    }
   ],
   "source": [
    "import numpy as np\n",
    "import pandas as pd\n",
    "from monte_carlo_simulator.die_game_analyzer import Die\n",
    "\n",
    "faces = np.array(['H', 'T'])\n",
    "fair_coin = Die(faces)\n",
    "\n",
    "unfair_coin = Die(faces)\n",
    "unfair_coin.change_weight('H', 5)\n",
    "\n",
    "print(\"Fair Coin State:\")\n",
    "print(fair_coin.show())\n",
    "\n",
    "print(\"\\nUnfair Coin State:\")\n",
    "print(unfair_coin.show())"
   ]
  },
  {
   "cell_type": "markdown",
   "id": "02b272ab-99da-4b6e-ac2a-555b73e09c07",
   "metadata": {},
   "source": [
    "Task 2. Play a game of $1000$ flips with two fair dice.\n",
    "\n",
    "- Play method called correclty and without error (1)."
   ]
  },
  {
   "cell_type": "code",
   "execution_count": 55,
   "id": "65c92601-d32d-4326-b215-74953aee27f2",
   "metadata": {
    "tags": []
   },
   "outputs": [
    {
     "name": "stdout",
     "output_type": "stream",
     "text": [
      "             0  1\n",
      "Roll Number      \n",
      "0            H  H\n",
      "1            H  T\n",
      "2            T  H\n",
      "3            T  T\n",
      "4            H  T\n",
      "...         .. ..\n",
      "995          T  T\n",
      "996          T  T\n",
      "997          H  T\n",
      "998          T  H\n",
      "999          H  T\n",
      "\n",
      "[1000 rows x 2 columns]\n",
      "T: 1024  H: 976\n"
     ]
    }
   ],
   "source": [
    "import numpy as np\n",
    "from monte_carlo_simulator.die_game_analyzer import Die, Game\n",
    "\n",
    "faces = np.array(['H', 'T'])\n",
    "fair_coin1 = Die(faces)\n",
    "fair_coin2 = Die(faces)\n",
    "\n",
    "game = Game([fair_coin1, fair_coin2])\n",
    "\n",
    "game.play(1000)\n",
    "\n",
    "print(game.show('wide'))\n",
    "total_counts = game.show('wide').apply(pd.Series.value_counts).sum(axis=1)\n",
    "print(f\"T: {total_counts.get('T', 0)}  H: {total_counts.get('H', 0)}\")\n"
   ]
  },
  {
   "cell_type": "markdown",
   "id": "7d9c3dc8-22c1-4cae-81fb-d68d774a05d1",
   "metadata": {},
   "source": [
    "Task 3. Play another game (using a new Game object) of $1000$ flips, this time using two unfair dice and one fair die. For the second unfair die, you can use the same die object twice in the list of dice you pass to the Game object.\n",
    "\n",
    "- New game object created (1).\n",
    "- Play method called correclty and without error (1)."
   ]
  },
  {
   "cell_type": "code",
   "execution_count": 56,
   "id": "d4098bed-1eb2-4084-8d5e-9fda07c3be43",
   "metadata": {
    "tags": []
   },
   "outputs": [
    {
     "name": "stdout",
     "output_type": "stream",
     "text": [
      "             0  1  2\n",
      "Roll Number         \n",
      "0            H  H  T\n",
      "1            T  H  H\n",
      "2            H  H  T\n",
      "3            H  H  H\n",
      "4            T  H  T\n",
      "...         .. .. ..\n",
      "995          H  H  H\n",
      "996          T  H  T\n",
      "997          H  H  H\n",
      "998          H  H  H\n",
      "999          H  H  T\n",
      "\n",
      "[1000 rows x 3 columns]\n",
      "T: 854  H: 2146\n"
     ]
    }
   ],
   "source": [
    "game2 = Game([unfair_coin, unfair_coin, fair_coin1])\n",
    "game2.play(1000)\n",
    "\n",
    "print(game2.show('wide'))\n",
    "\n",
    "total_counts2 = game2.show('wide').apply(pd.Series.value_counts).sum(axis=1)\n",
    "print(f\"T: {total_counts2.get('T', 0)}  H: {total_counts2.get('H', 0)}\")\n"
   ]
  },
  {
   "cell_type": "markdown",
   "id": "f690ebfc-fe71-4eb2-976d-7ac80ca6c23f",
   "metadata": {},
   "source": [
    "Task 4. For each game, use an Analyzer object to determine the raw frequency of jackpots — i.e. getting either all $H$s or all $T$s.\n",
    "\n",
    "- Analyzer objecs instantiated for both games (1).\n",
    "- Raw frequencies reported for both (1)."
   ]
  },
  {
   "cell_type": "code",
   "execution_count": 57,
   "id": "b26b8b7e-3be7-4476-a9a4-37d97536729e",
   "metadata": {
    "tags": []
   },
   "outputs": [
    {
     "name": "stdout",
     "output_type": "stream",
     "text": [
      "Game 1 (2 Fair Coins) - Number of Jackpots: 494\n",
      "Game 2 (2 Unfair + 1 Fair Coin) - Number of Jackpots: 330\n"
     ]
    }
   ],
   "source": [
    "from monte_carlo_simulator.die_game_analyzer import Analyzer\n",
    "\n",
    "analyzer1 = Analyzer(game)\n",
    "jackpots1 = analyzer1.jackpot()\n",
    "print(f\"Game 1 (2 Fair Coins) - Number of Jackpots: {jackpots1}\")\n",
    "\n",
    "analyzer2 = Analyzer(game2)\n",
    "jackpots2 = analyzer2.jackpot()\n",
    "print(f\"Game 2 (2 Unfair + 1 Fair Coin) - Number of Jackpots: {jackpots2}\")\n"
   ]
  },
  {
   "cell_type": "markdown",
   "id": "b73d233c-445e-40cd-8858-0c5e1f097105",
   "metadata": {},
   "source": [
    "Task 5. For each analyzer, compute relative frequency as the number of jackpots over the total number of rolls.\n",
    "\n",
    "- Both relative frequencies computed (1)."
   ]
  },
  {
   "cell_type": "code",
   "execution_count": 58,
   "id": "9a96b31b-1b9d-496e-be3e-4bf83c45ec3a",
   "metadata": {
    "tags": []
   },
   "outputs": [
    {
     "name": "stdout",
     "output_type": "stream",
     "text": [
      "Game 1 (2 Fair Coins) - Relative Jackpot Frequency: 0.4940\n",
      "Game 2 (2 Unfair + 1 Fair Coin) - Relative Jackpot Frequency: 0.3300\n"
     ]
    }
   ],
   "source": [
    "total_rolls_game1 = game.show('wide').shape[0]\n",
    "total_rolls_game2 = game2.show('wide').shape[0]\n",
    "\n",
    "relative_freq1 = jackpots1 / total_rolls_game1\n",
    "relative_freq2 = jackpots2 / total_rolls_game2\n",
    "\n",
    "print(f\"Game 1 (2 Fair Coins) - Relative Jackpot Frequency: {relative_freq1:.4f}\")\n",
    "print(f\"Game 2 (2 Unfair + 1 Fair Coin) - Relative Jackpot Frequency: {relative_freq2:.4f}\")\n"
   ]
  },
  {
   "cell_type": "markdown",
   "id": "a6e1e734-7f5c-4721-8ba4-2f3a424cf984",
   "metadata": {},
   "source": [
    "Task 6. Show your results, comparing the two relative frequencies, in a simple bar chart.\n",
    "\n",
    "- Bar chart plotted and correct (1)."
   ]
  },
  {
   "cell_type": "code",
   "execution_count": 59,
   "id": "473fa67c-aa53-4aa3-a0b7-e8772b3f6ed3",
   "metadata": {
    "tags": []
   },
   "outputs": [
    {
     "data": {
      "image/png": "[encoded data removed]",
      "text/plain": [
       "<Figure size 600x400 with 1 Axes>"
      ]
     },
     "metadata": {},
     "output_type": "display_data"
    }
   ],
   "source": [
    "import matplotlib.pyplot as plt\n",
    "\n",
    "games = ['2 Fair Coins', '2 Unfair + 1 Fair']\n",
    "relative_frequencies = [relative_freq1, relative_freq2]\n",
    "\n",
    "plt.figure(figsize=(6, 4))\n",
    "plt.bar(games, relative_frequencies)\n",
    "plt.ylim(0, 1)\n",
    "plt.ylabel('Relative Jackpot Frequency')\n",
    "plt.title('Comparison of Jackpot Frequencies')\n",
    "\n",
    "for i, freq in enumerate(relative_frequencies):\n",
    "    plt.text(i, freq + 0.02, f\"{freq:.3f}\", ha='center')\n",
    "\n",
    "plt.show()\n"
   ]
  },
  {
   "cell_type": "markdown",
   "id": "725cfa5b-e4b7-47c9-86aa-8d9e1fe6c8c7",
   "metadata": {},
   "source": [
    "## Scenario 2: A 6-sided Die (9)\n",
    "\n",
    "Task 1. Create three dice, each with six sides having the faces 1 through 6.\n",
    "\n",
    "- Three die objects created (1)."
   ]
  },
  {
   "cell_type": "code",
   "execution_count": 7,
   "id": "6a8bc611-325a-4e05-88d5-980e0a2cf7c5",
   "metadata": {},
   "outputs": [
    {
     "name": "stdout",
     "output_type": "stream",
     "text": [
      "      weight\n",
      "face        \n",
      "1        1.0\n",
      "2        1.0\n",
      "3        1.0\n",
      "4        1.0\n",
      "5        1.0\n",
      "6        1.0       weight\n",
      "face        \n",
      "1        1.0\n",
      "2        1.0\n",
      "3        1.0\n",
      "4        1.0\n",
      "5        1.0\n",
      "6        1.0       weight\n",
      "face        \n",
      "1        1.0\n",
      "2        1.0\n",
      "3        1.0\n",
      "4        1.0\n",
      "5        1.0\n",
      "6        1.0\n"
     ]
    }
   ],
   "source": [
    "import numpy as np\n",
    "from monte_carlo_simulator.die_game_analyzer import Die\n",
    "\n",
    "faces = np.array([1, 2, 3, 4, 5, 6])\n",
    "\n",
    "die1 = Die(faces)\n",
    "die2 = Die(faces)\n",
    "die3 = Die(faces)\n",
    "\n",
    "print(die1.show(), die2.show(), die3.show())"
   ]
  },
  {
   "cell_type": "markdown",
   "id": "2ed3ad26-fbe9-43bd-9ad7-f683a4191d12",
   "metadata": {},
   "source": [
    "Task 2. Convert one of the dice to an unfair one by weighting the face $6$ five times more than the other weights (i.e. it has weight of 5 and the others a weight of 1 each).\n",
    "\n",
    "- Unfair die created with proper call to weight change method (1)."
   ]
  },
  {
   "cell_type": "code",
   "execution_count": 8,
   "id": "e33dd18f-7f90-456d-a680-61c08a328e21",
   "metadata": {},
   "outputs": [
    {
     "name": "stdout",
     "output_type": "stream",
     "text": [
      "      weight\n",
      "face        \n",
      "1        1.0\n",
      "2        1.0\n",
      "3        1.0\n",
      "4        1.0\n",
      "5        1.0\n",
      "6        5.0\n"
     ]
    }
   ],
   "source": [
    "die1.change_weight(6, 5)\n",
    "\n",
    "print(die1.show())"
   ]
  },
  {
   "cell_type": "markdown",
   "id": "7f6c062a-4c5b-45b9-96b8-76a0354c7e47",
   "metadata": {},
   "source": [
    "Task 3. Convert another of the dice to be unfair by weighting the face $1$ five times more than the others.\n",
    "\n",
    "- Unfair die created with proper call to weight change method (1)."
   ]
  },
  {
   "cell_type": "code",
   "execution_count": 9,
   "id": "01133a4e-6b06-4246-8d90-8e6d6995be51",
   "metadata": {},
   "outputs": [
    {
     "name": "stdout",
     "output_type": "stream",
     "text": [
      "      weight\n",
      "face        \n",
      "1        5.0\n",
      "2        1.0\n",
      "3        1.0\n",
      "4        1.0\n",
      "5        1.0\n",
      "6        1.0\n"
     ]
    }
   ],
   "source": [
    "die2.change_weight(1, 5)\n",
    "\n",
    "print(die2.show())"
   ]
  },
  {
   "cell_type": "markdown",
   "id": "f0ed31cb-0a3c-4eb2-b85e-6ed6b2eb6e58",
   "metadata": {},
   "source": [
    "Task 4. Play a game of $10000$ rolls with $5$ fair dice.\n",
    "\n",
    "- Game class properly instantiated (1). \n",
    "- Play method called properly (1)."
   ]
  },
  {
   "cell_type": "code",
   "execution_count": 10,
   "id": "e92395a4-9ed8-4cb0-8c85-38768a784ffc",
   "metadata": {},
   "outputs": [
    {
     "name": "stdout",
     "output_type": "stream",
     "text": [
      "             0  1  2  3  4\n",
      "Roll Number               \n",
      "0            1  4  3  2  3\n",
      "1            1  1  4  6  2\n",
      "2            6  3  5  6  6\n",
      "3            3  6  4  1  3\n",
      "4            6  5  6  6  1\n",
      "...         .. .. .. .. ..\n",
      "9995         6  3  4  6  2\n",
      "9996         1  6  3  4  2\n",
      "9997         4  5  4  1  3\n",
      "9998         6  3  5  6  4\n",
      "9999         2  6  5  4  3\n",
      "\n",
      "[10000 rows x 5 columns]\n"
     ]
    }
   ],
   "source": [
    "import numpy as np\n",
    "from monte_carlo_simulator.die_game_analyzer import Die, Game\n",
    "\n",
    "faces = np.array([1, 2, 3, 4, 5, 6])\n",
    "fair_dice = [Die(faces) for _ in range(5)]\n",
    "\n",
    "game = Game(fair_dice)\n",
    "\n",
    "game.play(10000)\n",
    "\n",
    "print(game.show('wide'))"
   ]
  },
  {
   "cell_type": "markdown",
   "id": "7814b402-46a4-40e5-8141-20e05c3e646b",
   "metadata": {},
   "source": [
    "Task 5. Play another game of $10000$ rolls, this time with $2$ unfair dice, one as defined in steps #2 and #3 respectively, and $3$ fair dice.\n",
    "\n",
    "- Game class properly instantiated (1). \n",
    "- Play method called properly (1)."
   ]
  },
  {
   "cell_type": "code",
   "execution_count": 15,
   "id": "7cd58fba-b2a5-4d5d-bc6d-2a7a68d18c4f",
   "metadata": {},
   "outputs": [
    {
     "name": "stdout",
     "output_type": "stream",
     "text": [
      "             0  1  2  3  4\n",
      "Roll Number               \n",
      "0            6  4  6  1  5\n",
      "1            4  1  5  6  2\n",
      "2            6  3  4  2  2\n",
      "3            6  5  5  2  5\n",
      "4            3  2  3  6  4\n",
      "...         .. .. .. .. ..\n",
      "9995         6  6  1  4  3\n",
      "9996         4  2  3  2  5\n",
      "9997         3  1  2  6  2\n",
      "9998         6  1  6  4  3\n",
      "9999         6  4  4  5  1\n",
      "\n",
      "[10000 rows x 5 columns]\n"
     ]
    }
   ],
   "source": [
    "fair_dice = [Die(faces) for _ in range(3)]\n",
    "\n",
    "game2 = Game([die1, die2] + fair_dice)\n",
    "game2.play(10000)\n",
    "\n",
    "print(game2.show('wide'))"
   ]
  },
  {
   "cell_type": "markdown",
   "id": "7b6cd372-2bb8-4df8-ade1-8f48bc300955",
   "metadata": {},
   "source": [
    "Task 6. For each game, use an Analyzer object to determine the relative frequency of jackpots and show your results, comparing the two relative frequencies, in a simple bar chart.\n",
    "\n",
    "- Jackpot methods called (1).\n",
    "- Graph produced (1)."
   ]
  },
  {
   "cell_type": "code",
   "execution_count": 16,
   "id": "bbdcf695-8937-406e-9b53-aa0b9ee3c59a",
   "metadata": {},
   "outputs": [
    {
     "name": "stdout",
     "output_type": "stream",
     "text": [
      "5 Fair Dice - Jackpots: 6, Relative Frequency: 0.0006\n",
      "2 Unfair + 3 Fair Dice - Jackpots: 6, Relative Frequency: 0.0006\n"
     ]
    },
    {
     "data": {
      "image/png": "[encoded data removed]",
      "text/plain": [
       "<Figure size 600x400 with 1 Axes>"
      ]
     },
     "metadata": {},
     "output_type": "display_data"
    }
   ],
   "source": [
    "from monte_carlo_simulator.die_game_analyzer import Analyzer\n",
    "import matplotlib.pyplot as plt\n",
    "\n",
    "analyzer_fair = Analyzer(game)\n",
    "analyzer_mixed = Analyzer(game2)\n",
    "\n",
    "jackpots_fair = analyzer_fair.jackpot()\n",
    "jackpots_mixed = analyzer_mixed.jackpot()\n",
    "\n",
    "total_rolls = 10000\n",
    "rel_freq_fair = jackpots_fair / total_rolls\n",
    "rel_freq_mixed = jackpots_mixed / total_rolls\n",
    "\n",
    "print(f\"5 Fair Dice - Jackpots: {jackpots_fair}, Relative Frequency: {rel_freq_fair:.4f}\")\n",
    "print(f\"2 Unfair + 3 Fair Dice - Jackpots: {jackpots_mixed}, Relative Frequency: {rel_freq_mixed:.4f}\")\n",
    "\n",
    "games = ['5 Fair Dice', '2 Unfair + 3 Fair Dice']\n",
    "frequencies = [rel_freq_fair, rel_freq_mixed]\n",
    "\n",
    "plt.figure(figsize=(6, 4))\n",
    "plt.bar(games, frequencies)\n",
    "plt.ylim(0, 1)\n",
    "plt.ylabel('Relative Jackpot Frequency')\n",
    "plt.title('Jackpot Frequency Comparison')\n",
    "\n",
    "for i, freq in enumerate(frequencies):\n",
    "    plt.text(i, freq + 0.01, f\"{freq:.3f}\", ha='center')\n",
    "\n",
    "plt.show()\n"
   ]
  },
  {
   "cell_type": "markdown",
   "id": "9f04e9be-8fcf-4ea4-a391-6614608285f8",
   "metadata": {},
   "source": [
    "## Scenario 3: Letters of the Alphabet (7)\n",
    "\n",
    "Task 1. Create a \"die\" of letters from $A$ to $Z$ with weights based on their frequency of usage as found in the data file `english_letters.txt`. Use the frequencies (i.e. raw counts) as weights.\n",
    "\n",
    "- Die correctly instantiated with source file data (1).\n",
    "- Weights properly applied using weight setting method (1)."
   ]
  },
  {
   "cell_type": "code",
   "execution_count": 17,
   "id": "b0ceb771-3cdf-4d8f-8c2c-020806bbb909",
   "metadata": {},
   "outputs": [
    {
     "name": "stdout",
     "output_type": "stream",
     "text": [
      "           weight\n",
      "face             \n",
      "E     529117365.0\n",
      "T     390965105.0\n",
      "A     374061888.0\n",
      "O     326627740.0\n",
      "I     320410057.0\n",
      "N     313720540.0\n",
      "S     294300210.0\n",
      "R     277000841.0\n",
      "H     216768975.0\n",
      "L     183996130.0\n",
      "D     169330528.0\n",
      "C     138416451.0\n",
      "U     117295780.0\n",
      "M     110504544.0\n",
      "F      95422055.0\n",
      "G      91258980.0\n",
      "P      90376747.0\n",
      "W      79843664.0\n",
      "Y      75294515.0\n",
      "B      70195826.0\n",
      "V      46337161.0\n",
      "K      35373464.0\n",
      "J       9613410.0\n",
      "X       8369915.0\n",
      "Z       4975847.0\n",
      "Q       4550166.0\n"
     ]
    }
   ],
   "source": [
    "import numpy as np\n",
    "import pandas as pd\n",
    "from monte_carlo_simulator.die_game_analyzer import Die\n",
    "\n",
    "letter_freq = pd.read_csv('english_letters.txt', sep=' ', header=None, names=['Letter', 'Frequency'])\n",
    "\n",
    "faces = letter_freq['Letter'].values\n",
    "weights = letter_freq['Frequency'].values\n",
    "\n",
    "letter_die = Die(faces)\n",
    "\n",
    "for letter, weight in zip(faces, weights):\n",
    "    letter_die.change_weight(letter, weight)\n",
    "print(letter_die.show())"
   ]
  },
  {
   "cell_type": "markdown",
   "id": "88e2e14a-6223-470a-a2c8-bca1120d7a5b",
   "metadata": {},
   "source": [
    "Task 2. Play a game involving $4$ of these dice with $1000$ rolls.\n",
    "\n",
    "- Game play method properly called (1)."
   ]
  },
  {
   "cell_type": "code",
   "execution_count": 18,
   "id": "2ae087cc-936d-4f1e-bddb-a7c179d139e0",
   "metadata": {},
   "outputs": [
    {
     "name": "stdout",
     "output_type": "stream",
     "text": [
      "             0  1  2  3\n",
      "Roll Number            \n",
      "0            O  T  L  F\n",
      "1            R  O  S  N\n",
      "2            T  S  R  C\n",
      "3            I  T  L  R\n",
      "4            P  T  A  D\n",
      "...         .. .. .. ..\n",
      "995          E  M  A  R\n",
      "996          I  L  E  I\n",
      "997          D  E  M  R\n",
      "998          D  T  N  D\n",
      "999          E  S  H  T\n",
      "\n",
      "[1000 rows x 4 columns]\n"
     ]
    }
   ],
   "source": [
    "from monte_carlo_simulator.die_game_analyzer import Game\n",
    "\n",
    "letter_dice = [letter_die] * 4\n",
    "letter_game = Game(letter_dice)\n",
    "\n",
    "letter_game.play(1000)\n",
    "\n",
    "print(letter_game.show('wide'))"
   ]
  },
  {
   "cell_type": "markdown",
   "id": "3b9ff800-bf1f-4f66-9d7f-ff57a648e9f0",
   "metadata": {},
   "source": [
    "Task 3. Determine how many permutations in your results are actual English words, based on the vocabulary found in `scrabble_words.txt`.\n",
    "\n",
    "- Use permutation method (1).\n",
    "- Get count as difference between permutations and vocabulary (1)."
   ]
  },
  {
   "cell_type": "code",
   "execution_count": 20,
   "id": "ed1c7fa0-cfa3-4cf4-9fd0-9f84b86b0f64",
   "metadata": {},
   "outputs": [
    {
     "name": "stdout",
     "output_type": "stream",
     "text": [
      "Number of valid English words found: 50\n",
      "\n",
      "Valid words and their counts:\n",
      "     Word  Count\n",
      "12   FINE      1\n",
      "24   EROS      1\n",
      "31   OPAL      1\n",
      "59   ERNS      1\n",
      "81   NODE      1\n",
      "105  NAPA      1\n",
      "129  OMER      1\n",
      "164  STOT      1\n",
      "174  BURA      1\n",
      "189  ECUS      1\n",
      "199  BEET      1\n",
      "201  SNEE      1\n",
      "202  MENO      1\n",
      "214  AMIA      1\n",
      "247  OILS      1\n",
      "257  ETEN      1\n",
      "267  CORF      1\n",
      "282  DENE      1\n",
      "295  EONS      1\n",
      "296  SLEE      1\n",
      "303  SESE      1\n",
      "311  WASE      1\n",
      "323  SNAR      1\n",
      "348  SEEL      1\n",
      "355  HUTS      1\n",
      "407  MOTH      1\n",
      "473  ATES      1\n",
      "485  TASE      1\n",
      "500  STEM      1\n",
      "530  ENES      1\n",
      "549  GOLE      1\n",
      "550  WAID      1\n",
      "578  CILL      1\n",
      "630  ANIL      1\n",
      "649  EAST      1\n",
      "669  ICER      1\n",
      "671  PACA      1\n",
      "705  NOOP      1\n",
      "744  GEAT      1\n",
      "746  SHAD      1\n",
      "762  TORO      1\n",
      "765  CRED      1\n",
      "813  ROHE      1\n",
      "818  EDDO      1\n",
      "832  TATH      1\n",
      "882  NEAR      1\n",
      "893  HAEN      1\n",
      "924  SOUL      1\n",
      "936  MEMS      1\n",
      "943  TWIN      1\n"
     ]
    }
   ],
   "source": [
    "letter_analyzer = Analyzer(letter_game)\n",
    "permutations_df = letter_analyzer.permutation_count()\n",
    "\n",
    "permutations_df = permutations_df.reset_index()\n",
    "permutations_df['Word'] = permutations_df['Permutation'].apply(lambda x: ''.join(x))\n",
    "\n",
    "with open('scrabble_words.txt', 'r') as f:\n",
    "    scrabble_words = set(word.strip().upper() for word in f if len(word.strip()) == 4)\n",
    "\n",
    "valid_words_df = permutations_df[permutations_df['Word'].isin(scrabble_words)]\n",
    "\n",
    "num_valid_words = valid_words_df['Count'].sum()\n",
    "\n",
    "print(f\"Number of valid English words found: {num_valid_words}\")\n",
    "print(\"\\nValid words and their counts:\")\n",
    "print(valid_words_df[['Word', 'Count']])"
   ]
  },
  {
   "cell_type": "markdown",
   "id": "fcf068cf-381a-4b3e-ac3a-0510eb4dbdb0",
   "metadata": {},
   "source": [
    "Task 4. Repeat steps #2 and #3, this time with $5$ dice. How many actual words does this produce? Which produces more?\n",
    "\n",
    "- Successfully repreats steps (1).\n",
    "- Identifies parameter with most found words (1)."
   ]
  },
  {
   "cell_type": "code",
   "execution_count": 22,
   "id": "7524c360-d562-42b4-9f2f-4e9b6705d69d",
   "metadata": {
    "tags": []
   },
   "outputs": [
    {
     "name": "stdout",
     "output_type": "stream",
     "text": [
      "             0  1  2  3  4\n",
      "Roll Number               \n",
      "0            E  A  A  F  R\n",
      "1            I  E  F  E  F\n",
      "2            L  P  N  A  A\n",
      "3            S  U  E  T  T\n",
      "4            F  A  T  Y  A\n",
      "...         .. .. .. .. ..\n",
      "995          A  F  T  N  I\n",
      "996          U  E  R  R  L\n",
      "997          S  S  A  T  C\n",
      "998          I  O  T  S  J\n",
      "999          R  O  O  O  E\n",
      "\n",
      "[1000 rows x 5 columns]\n"
     ]
    }
   ],
   "source": [
    "letter_dice_5 = [letter_die] * 5\n",
    "\n",
    "letter_game_5 = Game(letter_dice_5)\n",
    "letter_game_5.play(1000)\n",
    "\n",
    "print(letter_game_5.show('wide'))"
   ]
  },
  {
   "cell_type": "code",
   "execution_count": 24,
   "id": "e6df25ee-d75a-4d4e-8529-bd670c438b93",
   "metadata": {
    "tags": []
   },
   "outputs": [
    {
     "name": "stdout",
     "output_type": "stream",
     "text": [
      "Number of valid English words (5 dice): 11\n",
      "      Word  Count\n",
      "33   HOWRE      1\n",
      "195  CLEAT      1\n",
      "222  TITLE      1\n",
      "358  TWAYS      1\n",
      "455  ETENS      1\n",
      "526  THROB      1\n",
      "783  STATE      1\n",
      "798  TRIER      1\n",
      "824  AMEND      1\n",
      "836  STARR      1\n",
      "895  STENT      1\n"
     ]
    }
   ],
   "source": [
    "analyzer_5 = Analyzer(letter_game_5)\n",
    "permutations_5_df = analyzer_5.permutation_count()\n",
    "\n",
    "permutations_5_df = permutations_5_df.reset_index()\n",
    "permutations_5_df['Word'] = permutations_5_df['Permutation'].apply(lambda x: ''.join(x))\n",
    "\n",
    "with open('scrabble_words.txt', 'r') as f:\n",
    "    scrabble_words_5 = set(word.strip().upper() for word in f if len(word.strip()) == 5)\n",
    "\n",
    "valid_words_5_df = permutations_5_df[permutations_5_df['Word'].isin(scrabble_words_5)]\n",
    "\n",
    "num_valid_words_5 = valid_words_5_df['Count'].sum()\n",
    "\n",
    "print(f\"Number of valid English words (5 dice): {num_valid_words_5}\")\n",
    "print(valid_words_5_df[['Word', 'Count']])"
   ]
  },
  {
   "cell_type": "markdown",
   "id": "74110a02-50cc-444d-905d-f133f1b8f647",
   "metadata": {},
   "source": [
    "Number of valid English words found: 50  \n",
    "Number of valid English words (5 dice): 11  \n",
    "\n",
    "There are **more 4 letter words** compared to the 5 letter words. This is due to the increased complexity that comes with adding more letters. Also due to the weighted nature of the dice shorter words are more likely to appear.  "
   ]
  }
 ],
 "metadata": {
  "kernelspec": {
   "display_name": "Python 3 (ipykernel)",
   "language": "python",
   "name": "python3"
  },
  "language_info": {
   "codemirror_mode": {
    "name": "ipython",
    "version": 3
   },
   "file_extension": ".py",
   "mimetype": "text/x-python",
   "name": "python",
   "nbconvert_exporter": "python",
   "pygments_lexer": "ipython3",
   "version": "3.11.4"
  },
  "toc-autonumbering": true,
  "widgets": {
   "application/vnd.jupyter.widget-state+json": {
    "state": {},
    "version_major": 2,
    "version_minor": 0
   }
  }
 },
 "nbformat": 4,
 "nbformat_minor": 5
}
